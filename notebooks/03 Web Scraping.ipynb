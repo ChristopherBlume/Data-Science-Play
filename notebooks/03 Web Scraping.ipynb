{
 "cells": [
  {
   "cell_type": "markdown",
   "metadata": {},
   "source": [
    "# Extracting Data using Web Scraping"
   ]
  },
  {
   "cell_type": "code",
   "execution_count": null,
   "metadata": {},
   "outputs": [],
   "source": [
    "import requests\n",
    "from bs4 import BeautifulSoup"
   ]
  },
  {
   "cell_type": "code",
   "execution_count": null,
   "metadata": {},
   "outputs": [],
   "source": [
    "# HTML String\n",
    "html_string = \"\"\"\n",
    "<!doctype html>\n",
    "<html lang=\"eng\">\n",
    "<head>\n",
    "    <title>Doing Data Science with Python</title>\n",
    "</head>\n",
    "<body>\n",
    "    <h1 style=\"color:#F15B2A;\">Doing Data Science with Python</h1>\n",
    "    <p id=\"author\">Author: Chris Blume</p>\n",
    "    <p id=\"description\">This course will help to perfomr various data science activities using python.</p>\n",
    "    \n",
    "    <h3 style=\"color:#404040\">Modules</h3>\n",
    "    <table id=\"module\" style=\"width:100%\">\n",
    "        <tr>\n",
    "            <th>Title</th>\n",
    "            <th>Duration in Minutes</th>\n",
    "        </tr>\n",
    "        <tr>\n",
    "            <th>Getting started</th>\n",
    "            <th>20</th>\n",
    "        </tr>\n",
    "          <tr>\n",
    "            <th>Setting up Environment</th>\n",
    "            <th>40</th>\n",
    "        </tr>\n",
    "          <tr>\n",
    "            <th>Extracting data</th>\n",
    "            <th>35</th>\n",
    "        </tr>\n",
    "    </table>\n",
    "</body>\n",
    "</html>\n",
    "\"\"\""
   ]
  },
  {
   "cell_type": "code",
   "execution_count": null,
   "metadata": {},
   "outputs": [],
   "source": [
    "# display HTML string in jupyter notebook\n",
    "from IPython.core.display import display, HTML\n",
    "display(HTML(html_string))"
   ]
  },
  {
   "cell_type": "code",
   "execution_count": null,
   "metadata": {},
   "outputs": [],
   "source": [
    "# use beautiful soup\n",
    "ps = BeautifulSoup(html_string)"
   ]
  },
  {
   "cell_type": "code",
   "execution_count": null,
   "metadata": {},
   "outputs": [],
   "source": [
    "print(ps)"
   ]
  },
  {
   "cell_type": "code",
   "execution_count": null,
   "metadata": {},
   "outputs": [],
   "source": [
    "# extract only the body potion of the HTML structure\n",
    "body = ps.find(name=\"body\")"
   ]
  },
  {
   "cell_type": "code",
   "execution_count": null,
   "metadata": {},
   "outputs": [],
   "source": [
    "print(body.find(name=\"h1\").text)"
   ]
  },
  {
   "cell_type": "code",
   "execution_count": null,
   "metadata": {},
   "outputs": [],
   "source": [
    "print(body.find(name=\"p\"))"
   ]
  },
  {
   "cell_type": "code",
   "execution_count": null,
   "metadata": {},
   "outputs": [],
   "source": [
    "print(body.findAll(name=\"p\"))"
   ]
  },
  {
   "cell_type": "code",
   "execution_count": null,
   "metadata": {},
   "outputs": [],
   "source": [
    "for p in body.findAll(name=\"p\"):\n",
    "    print(p.text)"
   ]
  },
  {
   "cell_type": "code",
   "execution_count": null,
   "metadata": {},
   "outputs": [],
   "source": [
    "print(body.find(name=\"p\", attrs={\"id\":\"author\"}))"
   ]
  },
  {
   "cell_type": "code",
   "execution_count": null,
   "metadata": {},
   "outputs": [],
   "source": [
    "# body - first extract body\n",
    "body = ps.find(name=\"body\")\n",
    "# module table\n",
    "module_table = body.find(name=\"table\", attrs={\"id\":\"module\"})\n",
    "# Iterate through each row in the table (skipping first row because it has header information)\n",
    "for row in module_table.findAll(name=\"tr\")[1:]:\n",
    "    # module title\n",
    "    title = row.findAll(name=\"td\")[0].text\n",
    "    # module duration\n",
    "    duration = int(row.findAll(name=\"td\")[1].text)\n",
    "    print(title, duration)"
   ]
  },
  {
   "cell_type": "code",
   "execution_count": null,
   "metadata": {},
   "outputs": [],
   "source": []
  }
 ],
 "metadata": {
  "kernelspec": {
   "display_name": "Python 3",
   "language": "python",
   "name": "python3"
  },
  "language_info": {
   "codemirror_mode": {
    "name": "ipython",
    "version": 3
   },
   "file_extension": ".py",
   "mimetype": "text/x-python",
   "name": "python",
   "nbconvert_exporter": "python",
   "pygments_lexer": "ipython3",
   "version": "3.7.0"
  }
 },
 "nbformat": 4,
 "nbformat_minor": 2
}
