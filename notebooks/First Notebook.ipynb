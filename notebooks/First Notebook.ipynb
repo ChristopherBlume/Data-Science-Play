{
 "cells": [
  {
   "cell_type": "markdown",
   "metadata": {},
   "source": [
    "# Cheat Sheet Python Notebook Stuff\n",
    "\n",
    "## Keyboard Shortcuts\n",
    "\n",
    "CTRL + Enter = Run Cells\n",
    "\n",
    "Shitft + Enter = Run Cell and create new Cell\n",
    "\n",
    "ESC + M = Markdown Mode\n",
    "\n",
    "ESC + L = Include Line Numbers\n",
    "\n",
    "CTRL + S = Save and Checkpoint"
   ]
  },
  {
   "cell_type": "code",
   "execution_count": 16,
   "metadata": {},
   "outputs": [
    {
     "name": "stdout",
     "output_type": "stream",
     "text": [
      "Python 3.7.0\n"
     ]
    }
   ],
   "source": [
    "! python --version"
   ]
  },
  {
   "cell_type": "code",
   "execution_count": 17,
   "metadata": {},
   "outputs": [],
   "source": [
    "def greet_user(name):\n",
    "    print('Hello {0}!'.format(name))"
   ]
  },
  {
   "cell_type": "code",
   "execution_count": 18,
   "metadata": {},
   "outputs": [
    {
     "name": "stdout",
     "output_type": "stream",
     "text": [
      "Hello Chris!\n"
     ]
    }
   ],
   "source": [
    "greet_user('Chris')"
   ]
  }
 ],
 "metadata": {
  "kernelspec": {
   "display_name": "Python 3",
   "language": "python",
   "name": "python3"
  },
  "language_info": {
   "codemirror_mode": {
    "name": "ipython",
    "version": 3
   },
   "file_extension": ".py",
   "mimetype": "text/x-python",
   "name": "python",
   "nbconvert_exporter": "python",
   "pygments_lexer": "ipython3",
   "version": "3.7.0"
  }
 },
 "nbformat": 4,
 "nbformat_minor": 2
}
